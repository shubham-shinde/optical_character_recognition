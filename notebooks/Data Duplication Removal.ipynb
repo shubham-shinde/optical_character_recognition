{
 "cells": [
  {
   "cell_type": "code",
   "execution_count": 1,
   "id": "9925b1d0",
   "metadata": {},
   "outputs": [],
   "source": [
    "import pymongo\n",
    "client = pymongo.MongoClient(\"mongodb://localhost:27017/\")\n",
    "db = client[\"latex_ocr\"]\n",
    "col = db[\"data\"]"
   ]
  },
  {
   "cell_type": "code",
   "execution_count": 7,
   "id": "0c04b181",
   "metadata": {},
   "outputs": [],
   "source": [
    "duplicate_docs = col.aggregate([\n",
    "    { '$match': { 'is_error': False}},\n",
    "    {\n",
    "        '$group': {\n",
    "            '_id': '$traces_str',\n",
    "            'count': {'$sum': 1},\n",
    "            'ids': { '$push': '$_id' },\n",
    "            'label': { '$first': '$label'},\n",
    "            'labels': { '$push': '$label'},\n",
    "            'file': { '$first': '$file'},\n",
    "            'root_path': { '$first': '$root_path'},\n",
    "            'file_name': { '$first': '$file_name'},\n",
    "        }\n",
    "    },{\n",
    "        '$project': { '_id': 0}\n",
    "    }, {\n",
    "        '$out': 'unique_data'\n",
    "    }\n",
    "])\n",
    "# duplicate_docs = list(duplicate_docs)"
   ]
  },
  {
   "cell_type": "code",
   "execution_count": 6,
   "id": "a08a83fa",
   "metadata": {},
   "outputs": [
    {
     "data": {
      "text/plain": [
       "{'count': 3,\n",
       " 'ids': [ObjectId('6332e28de05b22d3194daa61'),\n",
       "  ObjectId('6332e35ce38084b4974dae4d'),\n",
       "  ObjectId('6332e3f2b7e92994304db18c')],\n",
       " 'label': ' \\\\frac { 4 } { 3 } \\\\pi r ^ 3 ',\n",
       " 'labels': [' \\\\frac { 4 } { 3 } \\\\pi r ^ 3 ',\n",
       "  ' \\\\frac { 4 } { 3 } \\\\pi r ^ 3 ',\n",
       "  ' \\\\frac { 4 } { 3 } \\\\pi r ^ 3 '],\n",
       " 'file': '../data/CROHME2013_data/TrainINKML/MathBrush/200922-947-38.inkml',\n",
       " 'root_path': '../data/CROHME2013_data/TrainINKML/MathBrush/',\n",
       " 'file_name': '200922-947-38.inkml'}"
      ]
     },
     "execution_count": 6,
     "metadata": {},
     "output_type": "execute_result"
    }
   ],
   "source": [
    "# duplicate_docs[0]"
   ]
  },
  {
   "cell_type": "code",
   "execution_count": null,
   "id": "f84f3126",
   "metadata": {},
   "outputs": [],
   "source": []
  }
 ],
 "metadata": {
  "kernelspec": {
   "display_name": "ocr",
   "language": "python",
   "name": "ocr"
  },
  "language_info": {
   "codemirror_mode": {
    "name": "ipython",
    "version": 3
   },
   "file_extension": ".py",
   "mimetype": "text/x-python",
   "name": "python",
   "nbconvert_exporter": "python",
   "pygments_lexer": "ipython3",
   "version": "3.9.13"
  }
 },
 "nbformat": 4,
 "nbformat_minor": 5
}
